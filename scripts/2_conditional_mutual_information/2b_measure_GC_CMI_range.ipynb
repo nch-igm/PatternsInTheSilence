{
 "cells": [
  {
   "cell_type": "markdown",
   "id": "770de22d",
   "metadata": {},
   "source": [
    "**Purpose**\n",
    "\n",
    "Read in CMI table for $I_A(C,N_i|GC)$, measure range for dropoff in CMI per amino acid, write out table, and print average for upstream and downstream ranges."
   ]
  },
  {
   "attachments": {},
   "cell_type": "markdown",
   "id": "caf97528-3b5e-4d40-bf1e-8cce8f322b80",
   "metadata": {},
   "source": [
    "# Setup"
   ]
  },
  {
   "cell_type": "code",
   "execution_count": 1,
   "id": "24d218fd-49d3-4078-8a1c-0b0b39c57b72",
   "metadata": {},
   "outputs": [],
   "source": [
    "import pandas as pd\n",
    "import numpy as np"
   ]
  },
  {
   "attachments": {},
   "cell_type": "markdown",
   "id": "3db10685-e05f-4add-b838-20bffae462f5",
   "metadata": {},
   "source": [
    "## Files read"
   ]
  },
  {
   "cell_type": "code",
   "execution_count": 2,
   "id": "f0a739b1-79bd-4e75-a30d-60cc9e983c50",
   "metadata": {},
   "outputs": [],
   "source": [
    "cond_mut_inf_gc_filename = \"../../data/2_conditional_mutual_information/cond_mut_inf_codon_nuc_pos_var_GCcount_20bins.tsv\""
   ]
  },
  {
   "attachments": {},
   "cell_type": "markdown",
   "id": "ca807b32-72c5-456b-a763-9525e2656484",
   "metadata": {},
   "source": [
    "## Files written"
   ]
  },
  {
   "cell_type": "code",
   "execution_count": 3,
   "id": "b7337cc7-4ae6-470f-a629-a9e31ccadf14",
   "metadata": {},
   "outputs": [],
   "source": [
    "cmi_range_gc_filename = \"../../data/2_conditional_mutual_information/cmi_codon_nuc_pos_GCcount_20bins_range.tsv\""
   ]
  },
  {
   "attachments": {},
   "cell_type": "markdown",
   "id": "280cb470-5b80-4fe0-9c63-904aca6bae18",
   "metadata": {},
   "source": [
    "# Parameters"
   ]
  },
  {
   "attachments": {},
   "cell_type": "markdown",
   "id": "dd342980-974b-4b8e-a08e-04edc66a0786",
   "metadata": {},
   "source": [
    "Define the indices for the context sequence"
   ]
  },
  {
   "cell_type": "code",
   "execution_count": 4,
   "id": "acceb1a9-aa72-41d5-b7bd-35657455e4f6",
   "metadata": {},
   "outputs": [],
   "source": [
    "seq_length = 101 #total context length (should correspond with CMI ranges)\n",
    "\n",
    "upstream_start = 0 #site furthest from central codon, upstream\n",
    "downstream_start = 99 #site furthest from central codon, downstream (last full codon)\n",
    "\n",
    "upstream_end = 48 #C1\n",
    "downstream_end = 51 #+1"
   ]
  },
  {
   "attachments": {},
   "cell_type": "markdown",
   "id": "8cc275eb-d122-4c80-94a9-50ce66f4b4af",
   "metadata": {},
   "source": [
    "Set parameters for how many sites to average and advance through, and threshold set against the CMI mean"
   ]
  },
  {
   "cell_type": "code",
   "execution_count": 5,
   "id": "3d0c2082-2288-4703-8810-def338c82da6",
   "metadata": {},
   "outputs": [],
   "source": [
    "std_factor = 2 #number of standard deviations to use as threshold\n",
    "cp3_baseline = 8 #index of CP3 position to measure average after (inclusive)"
   ]
  },
  {
   "attachments": {},
   "cell_type": "markdown",
   "id": "ce340826-032e-4165-9472-0110cec8d4da",
   "metadata": {},
   "source": [
    "# Measure CMI range against mean"
   ]
  },
  {
   "cell_type": "code",
   "execution_count": 6,
   "id": "72de95a2-5df2-4ee5-b404-e018266dc111",
   "metadata": {},
   "outputs": [
    {
     "data": {
      "text/html": [
       "<div>\n",
       "<style scoped>\n",
       "    .dataframe tbody tr th:only-of-type {\n",
       "        vertical-align: middle;\n",
       "    }\n",
       "\n",
       "    .dataframe tbody tr th {\n",
       "        vertical-align: top;\n",
       "    }\n",
       "\n",
       "    .dataframe thead th {\n",
       "        text-align: right;\n",
       "    }\n",
       "</style>\n",
       "<table border=\"1\" class=\"dataframe\">\n",
       "  <thead>\n",
       "    <tr style=\"text-align: right;\">\n",
       "      <th></th>\n",
       "      <th>cmi_p0</th>\n",
       "      <th>cmi_p1</th>\n",
       "      <th>cmi_p2</th>\n",
       "      <th>cmi_p3</th>\n",
       "      <th>cmi_p4</th>\n",
       "      <th>cmi_p5</th>\n",
       "      <th>cmi_p6</th>\n",
       "      <th>cmi_p7</th>\n",
       "      <th>cmi_p8</th>\n",
       "      <th>cmi_p9</th>\n",
       "      <th>...</th>\n",
       "      <th>cmi_p91</th>\n",
       "      <th>cmi_p92</th>\n",
       "      <th>cmi_p93</th>\n",
       "      <th>cmi_p94</th>\n",
       "      <th>cmi_p95</th>\n",
       "      <th>cmi_p96</th>\n",
       "      <th>cmi_p97</th>\n",
       "      <th>cmi_p98</th>\n",
       "      <th>cmi_p99</th>\n",
       "      <th>cmi_p100</th>\n",
       "    </tr>\n",
       "  </thead>\n",
       "  <tbody>\n",
       "    <tr>\n",
       "      <th>F</th>\n",
       "      <td>0.000197</td>\n",
       "      <td>0.000333</td>\n",
       "      <td>0.000693</td>\n",
       "      <td>0.000113</td>\n",
       "      <td>0.000304</td>\n",
       "      <td>0.000865</td>\n",
       "      <td>0.000170</td>\n",
       "      <td>0.000288</td>\n",
       "      <td>0.000843</td>\n",
       "      <td>0.000223</td>\n",
       "      <td>...</td>\n",
       "      <td>0.000228</td>\n",
       "      <td>0.000828</td>\n",
       "      <td>0.000160</td>\n",
       "      <td>0.000288</td>\n",
       "      <td>0.000826</td>\n",
       "      <td>0.000135</td>\n",
       "      <td>0.000267</td>\n",
       "      <td>0.000835</td>\n",
       "      <td>0.000157</td>\n",
       "      <td>0.000357</td>\n",
       "    </tr>\n",
       "    <tr>\n",
       "      <th>L2</th>\n",
       "      <td>0.000234</td>\n",
       "      <td>0.000320</td>\n",
       "      <td>0.000432</td>\n",
       "      <td>0.000159</td>\n",
       "      <td>0.000230</td>\n",
       "      <td>0.000525</td>\n",
       "      <td>0.000195</td>\n",
       "      <td>0.000304</td>\n",
       "      <td>0.000476</td>\n",
       "      <td>0.000238</td>\n",
       "      <td>...</td>\n",
       "      <td>0.000339</td>\n",
       "      <td>0.000375</td>\n",
       "      <td>0.000174</td>\n",
       "      <td>0.000342</td>\n",
       "      <td>0.000338</td>\n",
       "      <td>0.000183</td>\n",
       "      <td>0.000320</td>\n",
       "      <td>0.000446</td>\n",
       "      <td>0.000225</td>\n",
       "      <td>0.000401</td>\n",
       "    </tr>\n",
       "    <tr>\n",
       "      <th>L4</th>\n",
       "      <td>0.000404</td>\n",
       "      <td>0.000633</td>\n",
       "      <td>0.000861</td>\n",
       "      <td>0.000334</td>\n",
       "      <td>0.000477</td>\n",
       "      <td>0.000917</td>\n",
       "      <td>0.000228</td>\n",
       "      <td>0.000472</td>\n",
       "      <td>0.001036</td>\n",
       "      <td>0.000371</td>\n",
       "      <td>...</td>\n",
       "      <td>0.000526</td>\n",
       "      <td>0.001014</td>\n",
       "      <td>0.000295</td>\n",
       "      <td>0.000597</td>\n",
       "      <td>0.001110</td>\n",
       "      <td>0.000256</td>\n",
       "      <td>0.000392</td>\n",
       "      <td>0.001050</td>\n",
       "      <td>0.000262</td>\n",
       "      <td>0.000570</td>\n",
       "    </tr>\n",
       "    <tr>\n",
       "      <th>I</th>\n",
       "      <td>0.000435</td>\n",
       "      <td>0.000473</td>\n",
       "      <td>0.001349</td>\n",
       "      <td>0.000315</td>\n",
       "      <td>0.000440</td>\n",
       "      <td>0.001165</td>\n",
       "      <td>0.000263</td>\n",
       "      <td>0.000469</td>\n",
       "      <td>0.001395</td>\n",
       "      <td>0.000353</td>\n",
       "      <td>...</td>\n",
       "      <td>0.000556</td>\n",
       "      <td>0.001202</td>\n",
       "      <td>0.000283</td>\n",
       "      <td>0.000519</td>\n",
       "      <td>0.001344</td>\n",
       "      <td>0.000324</td>\n",
       "      <td>0.000510</td>\n",
       "      <td>0.001170</td>\n",
       "      <td>0.000269</td>\n",
       "      <td>0.000528</td>\n",
       "    </tr>\n",
       "    <tr>\n",
       "      <th>V</th>\n",
       "      <td>0.000345</td>\n",
       "      <td>0.000582</td>\n",
       "      <td>0.001055</td>\n",
       "      <td>0.000229</td>\n",
       "      <td>0.000672</td>\n",
       "      <td>0.001003</td>\n",
       "      <td>0.000291</td>\n",
       "      <td>0.000559</td>\n",
       "      <td>0.001048</td>\n",
       "      <td>0.000346</td>\n",
       "      <td>...</td>\n",
       "      <td>0.000495</td>\n",
       "      <td>0.001138</td>\n",
       "      <td>0.000271</td>\n",
       "      <td>0.000649</td>\n",
       "      <td>0.001093</td>\n",
       "      <td>0.000235</td>\n",
       "      <td>0.000651</td>\n",
       "      <td>0.001194</td>\n",
       "      <td>0.000240</td>\n",
       "      <td>0.000653</td>\n",
       "    </tr>\n",
       "  </tbody>\n",
       "</table>\n",
       "<p>5 rows × 101 columns</p>\n",
       "</div>"
      ],
      "text/plain": [
       "      cmi_p0    cmi_p1    cmi_p2    cmi_p3    cmi_p4    cmi_p5    cmi_p6  \\\n",
       "F   0.000197  0.000333  0.000693  0.000113  0.000304  0.000865  0.000170   \n",
       "L2  0.000234  0.000320  0.000432  0.000159  0.000230  0.000525  0.000195   \n",
       "L4  0.000404  0.000633  0.000861  0.000334  0.000477  0.000917  0.000228   \n",
       "I   0.000435  0.000473  0.001349  0.000315  0.000440  0.001165  0.000263   \n",
       "V   0.000345  0.000582  0.001055  0.000229  0.000672  0.001003  0.000291   \n",
       "\n",
       "      cmi_p7    cmi_p8    cmi_p9  ...   cmi_p91   cmi_p92   cmi_p93   cmi_p94  \\\n",
       "F   0.000288  0.000843  0.000223  ...  0.000228  0.000828  0.000160  0.000288   \n",
       "L2  0.000304  0.000476  0.000238  ...  0.000339  0.000375  0.000174  0.000342   \n",
       "L4  0.000472  0.001036  0.000371  ...  0.000526  0.001014  0.000295  0.000597   \n",
       "I   0.000469  0.001395  0.000353  ...  0.000556  0.001202  0.000283  0.000519   \n",
       "V   0.000559  0.001048  0.000346  ...  0.000495  0.001138  0.000271  0.000649   \n",
       "\n",
       "     cmi_p95   cmi_p96   cmi_p97   cmi_p98   cmi_p99  cmi_p100  \n",
       "F   0.000826  0.000135  0.000267  0.000835  0.000157  0.000357  \n",
       "L2  0.000338  0.000183  0.000320  0.000446  0.000225  0.000401  \n",
       "L4  0.001110  0.000256  0.000392  0.001050  0.000262  0.000570  \n",
       "I   0.001344  0.000324  0.000510  0.001170  0.000269  0.000528  \n",
       "V   0.001093  0.000235  0.000651  0.001194  0.000240  0.000653  \n",
       "\n",
       "[5 rows x 101 columns]"
      ]
     },
     "execution_count": 6,
     "metadata": {},
     "output_type": "execute_result"
    }
   ],
   "source": [
    "cond_mut_inf_gc_df = pd.read_csv(cond_mut_inf_gc_filename,\n",
    "                                 sep=\"\\t\",\n",
    "                                 index_col=0)\n",
    "cond_mut_inf_gc_df.head()"
   ]
  },
  {
   "cell_type": "code",
   "execution_count": 7,
   "id": "8b4e95fb-0916-4172-b716-1019b1498dae",
   "metadata": {},
   "outputs": [
    {
     "name": "stdout",
     "output_type": "stream",
     "text": [
      "F\n",
      " up: 0.0009855310360932976 - last above: 0.0010561598293782\n",
      " down: 0.0011022029342183713 - last above: 0.0013424615971593\n",
      "L2\n",
      " up: 0.0005717289036917257 - last above: 0.0006215996916948\n",
      " down: 0.0005448353775185549 - last above: 0.0006955600158316\n",
      "L4\n",
      " up: 0.001185099578838532 - last above: 0.0016269444835871\n",
      " down: 0.0012015131315230728 - last above: 0.0014067634383998\n",
      "I\n",
      " up: 0.0016115369286952438 - last above: 0.0017331500566912\n",
      " down: 0.001600864257127963 - last above: 0.0016870269146048\n",
      "V\n",
      " up: 0.0012281296335950125 - last above: 0.0012309584858742\n",
      " down: 0.0012849682836102276 - last above: 0.0013864718209946\n",
      "S4\n",
      " up: 0.00180907499955456 - last above: 0.0019203396056789\n",
      " down: 0.0018059393512874894 - last above: 0.0020488145808716\n",
      "S2\n",
      " up: 0.001051730903907567 - last above: 0.0009759908907763\n",
      " down: 0.001115660028216264 - last above: 0.0017272313091495\n",
      "P\n",
      " up: 0.0024661242302758146 - last above: 0.002705434549237\n",
      " down: 0.002592784474619938 - last above: 0.002601656625295\n",
      "T\n",
      " up: 0.0017124923455428321 - last above: 0.0019373749423561\n",
      " down: 0.0017750318207526098 - last above: 0.0018847884692265\n",
      "A\n",
      " up: 0.0017547494745527058 - last above: 0.0019147451433461\n",
      " down: 0.001767422567192867 - last above: 0.0017676885706928\n",
      "Y\n",
      " up: 0.0011534908064859952 - last above: 0.0013591909598107\n",
      " down: 0.001078111634165424 - last above: 0.0013658414078016\n",
      "H\n",
      " up: 0.0011752421522189288 - last above: 0.0011628828292652\n",
      " down: 0.0013023479931247887 - last above: 0.0015246506653343\n",
      "Q\n",
      " up: 0.0007940205388200127 - last above: 0.0009128158458206\n",
      " down: 0.0006025133807315401 - last above: 0.0007503437431839\n",
      "N\n",
      " up: 0.0010875278101190732 - last above: 0.0011930962287643\n",
      " down: 0.0011497054506853697 - last above: 0.0014649153508116\n",
      "K\n",
      " up: 0.0009000472313507518 - last above: 0.0010494688572738\n",
      " down: 0.0008650646403499394 - last above: 0.0016630886374331\n",
      "D\n",
      " up: 0.001053397399589686 - last above: 0.0011117297091437\n",
      " down: 0.0010288554022656372 - last above: 0.0012082834961759\n",
      "E\n",
      " up: 0.0008363124035584726 - last above: 0.0008809894093478\n",
      " down: 0.000904998410266454 - last above: 0.0010524171027513\n",
      "C\n",
      " up: 0.0017868486116804007 - last above: 0.0027063820373618\n",
      " down: 0.0015308431767080079 - last above: 0.0018750696827618\n",
      "R4\n",
      " up: 0.0020412346470190957 - last above: 0.0021777688582568\n",
      " down: 0.001702416195756575 - last above: 0.001931331156035\n",
      "R2\n",
      " up: 0.0008301548076889301 - last above: 0.0010996912479247\n",
      " down: 0.0008864157673055817 - last above: 0.0010632615721521\n",
      "G\n",
      " up: 0.002358596735485676 - last above: 0.0031792828049812\n",
      " down: 0.002380162673946605 - last above: 0.0028238020962075\n"
     ]
    }
   ],
   "source": [
    "cmi_range_gc_rows = []\n",
    "\n",
    "for amin in cond_mut_inf_gc_df.index :\n",
    "    print(amin)\n",
    "    #-upstream\n",
    "    #--reverse sequence order so smaller index is closer to central codon\n",
    "    vals_up = cond_mut_inf_gc_df.loc[amin][upstream_start:upstream_end][::-1]\n",
    "    #\n",
    "    vals_cp3_up = vals_up[slice(0,len(vals_up),3)]\n",
    "    avg_up = np.mean(vals_cp3_up[cp3_baseline:])\n",
    "    std_up = np.std(vals_cp3_up[cp3_baseline:])\n",
    "    threshold_up = avg_up+(std_factor*std_up)\n",
    "    \n",
    "    last_outlier_up = 0\n",
    "    for i, w_i in enumerate(vals_cp3_up[:cp3_baseline]) :\n",
    "        if w_i > threshold_up :\n",
    "            last_outlier_up = i\n",
    "        else :\n",
    "            break\n",
    "    print(\" up:\", threshold_up, \"- last above:\", vals_cp3_up[:cp3_baseline][last_outlier_up])\n",
    "\n",
    "    #-downstream\n",
    "    vals_dn = cond_mut_inf_gc_df.loc[amin][downstream_end:downstream_start]\n",
    "    vals_cp3_dn = vals_dn[slice(2,upstream_end,3)]\n",
    "    avg_dn = np.mean(vals_cp3_dn[cp3_baseline:])\n",
    "    std_dn = np.std(vals_cp3_dn[cp3_baseline:])\n",
    "    threshold_dn = avg_dn+(std_factor*std_dn)\n",
    "    \n",
    "    last_outlier_dn = 0\n",
    "    for i, w_i in enumerate(vals_cp3_dn[:cp3_baseline]) :\n",
    "        if w_i > threshold_dn :\n",
    "            last_outlier_dn = i\n",
    "        else :\n",
    "            break\n",
    "    print(\" down:\", threshold_dn, \"- last above:\", vals_cp3_dn[:cp3_baseline][last_outlier_dn])\n",
    "\n",
    "    \n",
    "    cmi_range_gc_row = {\"AminoAcid\":amin,\n",
    "                        \"CMI_base_avg_up\":avg_up,\n",
    "                        \"CMI_base_sd_up\":std_up,\n",
    "                        \"CMI_base_avg_down\":avg_dn,\n",
    "                        \"CMI_base_sd_down\":std_dn,\n",
    "                        \"cp3_range_up\":last_outlier_up,\n",
    "                        \"cp3_range_down\":last_outlier_dn}\n",
    "    \n",
    "    \n",
    "    cmi_range_gc_rows.append(cmi_range_gc_row)"
   ]
  },
  {
   "attachments": {},
   "cell_type": "markdown",
   "id": "b5962bb1-1d78-43c6-8160-9db6c84593d2",
   "metadata": {},
   "source": [
    "Convert to data frame"
   ]
  },
  {
   "cell_type": "code",
   "execution_count": 8,
   "id": "86cc0b3b-073c-4f9d-a79b-09cf6ca70d00",
   "metadata": {},
   "outputs": [
    {
     "data": {
      "text/html": [
       "<div>\n",
       "<style scoped>\n",
       "    .dataframe tbody tr th:only-of-type {\n",
       "        vertical-align: middle;\n",
       "    }\n",
       "\n",
       "    .dataframe tbody tr th {\n",
       "        vertical-align: top;\n",
       "    }\n",
       "\n",
       "    .dataframe thead th {\n",
       "        text-align: right;\n",
       "    }\n",
       "</style>\n",
       "<table border=\"1\" class=\"dataframe\">\n",
       "  <thead>\n",
       "    <tr style=\"text-align: right;\">\n",
       "      <th></th>\n",
       "      <th>AminoAcid</th>\n",
       "      <th>CMI_base_avg_up</th>\n",
       "      <th>CMI_base_sd_up</th>\n",
       "      <th>CMI_base_avg_down</th>\n",
       "      <th>CMI_base_sd_down</th>\n",
       "      <th>cp3_range_up</th>\n",
       "      <th>cp3_range_down</th>\n",
       "    </tr>\n",
       "  </thead>\n",
       "  <tbody>\n",
       "    <tr>\n",
       "      <th>0</th>\n",
       "      <td>F</td>\n",
       "      <td>0.000847</td>\n",
       "      <td>0.000069</td>\n",
       "      <td>0.000919</td>\n",
       "      <td>0.000092</td>\n",
       "      <td>5</td>\n",
       "      <td>5</td>\n",
       "    </tr>\n",
       "    <tr>\n",
       "      <th>1</th>\n",
       "      <td>L2</td>\n",
       "      <td>0.000437</td>\n",
       "      <td>0.000067</td>\n",
       "      <td>0.000439</td>\n",
       "      <td>0.000053</td>\n",
       "      <td>1</td>\n",
       "      <td>0</td>\n",
       "    </tr>\n",
       "    <tr>\n",
       "      <th>2</th>\n",
       "      <td>L4</td>\n",
       "      <td>0.001007</td>\n",
       "      <td>0.000089</td>\n",
       "      <td>0.001079</td>\n",
       "      <td>0.000061</td>\n",
       "      <td>5</td>\n",
       "      <td>6</td>\n",
       "    </tr>\n",
       "    <tr>\n",
       "      <th>3</th>\n",
       "      <td>I</td>\n",
       "      <td>0.001367</td>\n",
       "      <td>0.000122</td>\n",
       "      <td>0.001359</td>\n",
       "      <td>0.000121</td>\n",
       "      <td>4</td>\n",
       "      <td>5</td>\n",
       "    </tr>\n",
       "    <tr>\n",
       "      <th>4</th>\n",
       "      <td>V</td>\n",
       "      <td>0.001095</td>\n",
       "      <td>0.000066</td>\n",
       "      <td>0.001170</td>\n",
       "      <td>0.000058</td>\n",
       "      <td>6</td>\n",
       "      <td>6</td>\n",
       "    </tr>\n",
       "  </tbody>\n",
       "</table>\n",
       "</div>"
      ],
      "text/plain": [
       "  AminoAcid  CMI_base_avg_up  CMI_base_sd_up  CMI_base_avg_down  \\\n",
       "0         F         0.000847        0.000069           0.000919   \n",
       "1        L2         0.000437        0.000067           0.000439   \n",
       "2        L4         0.001007        0.000089           0.001079   \n",
       "3         I         0.001367        0.000122           0.001359   \n",
       "4         V         0.001095        0.000066           0.001170   \n",
       "\n",
       "   CMI_base_sd_down  cp3_range_up  cp3_range_down  \n",
       "0          0.000092             5               5  \n",
       "1          0.000053             1               0  \n",
       "2          0.000061             5               6  \n",
       "3          0.000121             4               5  \n",
       "4          0.000058             6               6  "
      ]
     },
     "execution_count": 8,
     "metadata": {},
     "output_type": "execute_result"
    }
   ],
   "source": [
    "cmi_range_gc_df = pd.DataFrame(cmi_range_gc_rows)\n",
    "cmi_range_gc_df.head()"
   ]
  },
  {
   "cell_type": "code",
   "execution_count": 9,
   "id": "5516e30a",
   "metadata": {},
   "outputs": [
    {
     "data": {
      "text/html": [
       "<div>\n",
       "<style scoped>\n",
       "    .dataframe tbody tr th:only-of-type {\n",
       "        vertical-align: middle;\n",
       "    }\n",
       "\n",
       "    .dataframe tbody tr th {\n",
       "        vertical-align: top;\n",
       "    }\n",
       "\n",
       "    .dataframe thead th {\n",
       "        text-align: right;\n",
       "    }\n",
       "</style>\n",
       "<table border=\"1\" class=\"dataframe\">\n",
       "  <thead>\n",
       "    <tr style=\"text-align: right;\">\n",
       "      <th></th>\n",
       "      <th>AminoAcid</th>\n",
       "      <th>CMI_base_avg_up</th>\n",
       "      <th>CMI_base_sd_up</th>\n",
       "      <th>CMI_base_avg_down</th>\n",
       "      <th>CMI_base_sd_down</th>\n",
       "      <th>cp3_range_up</th>\n",
       "      <th>cp3_range_down</th>\n",
       "    </tr>\n",
       "  </thead>\n",
       "  <tbody>\n",
       "    <tr>\n",
       "      <th>20</th>\n",
       "      <td>G</td>\n",
       "      <td>0.002041</td>\n",
       "      <td>0.000159</td>\n",
       "      <td>0.001979</td>\n",
       "      <td>0.000201</td>\n",
       "      <td>3</td>\n",
       "      <td>5</td>\n",
       "    </tr>\n",
       "  </tbody>\n",
       "</table>\n",
       "</div>"
      ],
      "text/plain": [
       "   AminoAcid  CMI_base_avg_up  CMI_base_sd_up  CMI_base_avg_down  \\\n",
       "20         G         0.002041        0.000159           0.001979   \n",
       "\n",
       "    CMI_base_sd_down  cp3_range_up  cp3_range_down  \n",
       "20          0.000201             3               5  "
      ]
     },
     "execution_count": 9,
     "metadata": {},
     "output_type": "execute_result"
    }
   ],
   "source": [
    "cmi_range_gc_df.query(\"AminoAcid == 'G'\")"
   ]
  },
  {
   "attachments": {},
   "cell_type": "markdown",
   "id": "3ebc5fff-b47d-4e99-ac1e-13a914382332",
   "metadata": {},
   "source": [
    "Calculate mean ranges for upstream and downstream directions"
   ]
  },
  {
   "cell_type": "code",
   "execution_count": 10,
   "id": "ac69ed6e-6333-4ed9-89a9-0c5073963949",
   "metadata": {},
   "outputs": [
    {
     "data": {
      "text/plain": [
       "3.761904761904762"
      ]
     },
     "execution_count": 10,
     "metadata": {},
     "output_type": "execute_result"
    }
   ],
   "source": [
    "cmi_range_gc_df[\"cp3_range_up\"].mean()"
   ]
  },
  {
   "cell_type": "code",
   "execution_count": 11,
   "id": "33dc6a6a-668a-4b92-91b6-b187a55decc1",
   "metadata": {},
   "outputs": [
    {
     "data": {
      "text/plain": [
       "3.9523809523809526"
      ]
     },
     "execution_count": 11,
     "metadata": {},
     "output_type": "execute_result"
    }
   ],
   "source": [
    "cmi_range_gc_df[\"cp3_range_down\"].mean()"
   ]
  },
  {
   "attachments": {},
   "cell_type": "markdown",
   "id": "4ea69d17-e934-4d5d-bb9c-db86c62d9b12",
   "metadata": {},
   "source": [
    "## Save CMI range table"
   ]
  },
  {
   "cell_type": "code",
   "execution_count": 12,
   "id": "be379d86-0c31-41df-9bcc-7231e7fbc487",
   "metadata": {},
   "outputs": [],
   "source": [
    "cmi_range_gc_df.to_csv(cmi_range_gc_filename,\n",
    "                       sep=\"\\t\",\n",
    "                       index=False)"
   ]
  }
 ],
 "metadata": {
  "kernelspec": {
   "display_name": "codon_context",
   "language": "python",
   "name": "python3"
  },
  "language_info": {
   "codemirror_mode": {
    "name": "ipython",
    "version": 3
   },
   "file_extension": ".py",
   "mimetype": "text/x-python",
   "name": "python",
   "nbconvert_exporter": "python",
   "pygments_lexer": "ipython3",
   "version": "3.8.18"
  }
 },
 "nbformat": 4,
 "nbformat_minor": 5
}
