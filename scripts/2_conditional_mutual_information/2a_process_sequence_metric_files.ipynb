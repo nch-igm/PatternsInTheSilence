{
 "cells": [
  {
   "cell_type": "markdown",
   "id": "529f7386",
   "metadata": {},
   "source": [
    "**Purpose**\n",
    "\n",
    "Get tables from sources with original formatting, write table in prescribed form to be read by other programs."
   ]
  },
  {
   "cell_type": "markdown",
   "id": "caf97528-3b5e-4d40-bf1e-8cce8f322b80",
   "metadata": {},
   "source": [
    "# Setup"
   ]
  },
  {
   "cell_type": "code",
   "execution_count": 2,
   "id": "24d218fd-49d3-4078-8a1c-0b0b39c57b72",
   "metadata": {},
   "outputs": [],
   "source": [
    "import pandas as pd"
   ]
  },
  {
   "cell_type": "markdown",
   "id": "280cb470-5b80-4fe0-9c63-904aca6bae18",
   "metadata": {},
   "source": [
    "# Sequence metrics"
   ]
  },
  {
   "cell_type": "markdown",
   "id": "b6109c4e-46c7-4427-a9ac-3f3681b4d115",
   "metadata": {},
   "source": [
    "## Codon stabilization coefficient\n",
    "\n",
    "Source:  https://doi.org/10.7554/eLife.45396\n",
    "\n",
    "Figure 1—source data 2"
   ]
  },
  {
   "cell_type": "markdown",
   "id": "951aeb88-4679-4cbd-bd95-ab126532256b",
   "metadata": {},
   "source": [
    "**Input:**"
   ]
  },
  {
   "cell_type": "code",
   "execution_count": 20,
   "id": "118df2d1-fac5-4f9e-9571-09f24025a88f",
   "metadata": {},
   "outputs": [
    {
     "data": {
      "text/html": [
       "<div>\n",
       "<style scoped>\n",
       "    .dataframe tbody tr th:only-of-type {\n",
       "        vertical-align: middle;\n",
       "    }\n",
       "\n",
       "    .dataframe tbody tr th {\n",
       "        vertical-align: top;\n",
       "    }\n",
       "\n",
       "    .dataframe thead th {\n",
       "        text-align: right;\n",
       "    }\n",
       "</style>\n",
       "<table border=\"1\" class=\"dataframe\">\n",
       "  <thead>\n",
       "    <tr style=\"text-align: right;\">\n",
       "      <th></th>\n",
       "      <th>codon</th>\n",
       "      <th>Name</th>\n",
       "      <th>293T_endo</th>\n",
       "      <th>HeLa_endo</th>\n",
       "      <th>RPE_endo</th>\n",
       "      <th>293T_ORFome</th>\n",
       "      <th>K562_ORFome</th>\n",
       "      <th>K562_SLAM</th>\n",
       "      <th>genome</th>\n",
       "      <th>transcriptome</th>\n",
       "    </tr>\n",
       "  </thead>\n",
       "  <tbody>\n",
       "    <tr>\n",
       "      <th>0</th>\n",
       "      <td>AAA</td>\n",
       "      <td>Lys</td>\n",
       "      <td>-0.154753</td>\n",
       "      <td>-0.097518</td>\n",
       "      <td>-0.126503</td>\n",
       "      <td>-0.065995</td>\n",
       "      <td>-0.082504</td>\n",
       "      <td>-0.079069</td>\n",
       "      <td>549818.9998</td>\n",
       "      <td>25273066.62</td>\n",
       "    </tr>\n",
       "    <tr>\n",
       "      <th>1</th>\n",
       "      <td>AAC</td>\n",
       "      <td>Asn</td>\n",
       "      <td>0.037337</td>\n",
       "      <td>0.046963</td>\n",
       "      <td>0.051041</td>\n",
       "      <td>0.013212</td>\n",
       "      <td>0.047233</td>\n",
       "      <td>-0.014226</td>\n",
       "      <td>338382.0003</td>\n",
       "      <td>13679614.32</td>\n",
       "    </tr>\n",
       "    <tr>\n",
       "      <th>2</th>\n",
       "      <td>AAG</td>\n",
       "      <td>Lys</td>\n",
       "      <td>0.002683</td>\n",
       "      <td>-0.038327</td>\n",
       "      <td>-0.032505</td>\n",
       "      <td>-0.000135</td>\n",
       "      <td>0.061907</td>\n",
       "      <td>0.095405</td>\n",
       "      <td>630360.0000</td>\n",
       "      <td>31659242.67</td>\n",
       "    </tr>\n",
       "    <tr>\n",
       "      <th>3</th>\n",
       "      <td>AAT</td>\n",
       "      <td>Asn</td>\n",
       "      <td>-0.089872</td>\n",
       "      <td>-0.030969</td>\n",
       "      <td>-0.035647</td>\n",
       "      <td>-0.059247</td>\n",
       "      <td>-0.093182</td>\n",
       "      <td>-0.064404</td>\n",
       "      <td>358553.9970</td>\n",
       "      <td>14770289.87</td>\n",
       "    </tr>\n",
       "    <tr>\n",
       "      <th>4</th>\n",
       "      <td>ACA</td>\n",
       "      <td>Thr</td>\n",
       "      <td>-0.067140</td>\n",
       "      <td>-0.008358</td>\n",
       "      <td>-0.009713</td>\n",
       "      <td>-0.056360</td>\n",
       "      <td>-0.104351</td>\n",
       "      <td>-0.027917</td>\n",
       "      <td>301641.0009</td>\n",
       "      <td>11739970.94</td>\n",
       "    </tr>\n",
       "  </tbody>\n",
       "</table>\n",
       "</div>"
      ],
      "text/plain": [
       "  codon Name  293T_endo  HeLa_endo  RPE_endo  293T_ORFome  K562_ORFome  \\\n",
       "0   AAA  Lys  -0.154753  -0.097518 -0.126503    -0.065995    -0.082504   \n",
       "1   AAC  Asn   0.037337   0.046963  0.051041     0.013212     0.047233   \n",
       "2   AAG  Lys   0.002683  -0.038327 -0.032505    -0.000135     0.061907   \n",
       "3   AAT  Asn  -0.089872  -0.030969 -0.035647    -0.059247    -0.093182   \n",
       "4   ACA  Thr  -0.067140  -0.008358 -0.009713    -0.056360    -0.104351   \n",
       "\n",
       "   K562_SLAM       genome  transcriptome  \n",
       "0  -0.079069  549818.9998    25273066.62  \n",
       "1  -0.014226  338382.0003    13679614.32  \n",
       "2   0.095405  630360.0000    31659242.67  \n",
       "3  -0.064404  358553.9970    14770289.87  \n",
       "4  -0.027917  301641.0009    11739970.94  "
      ]
     },
     "execution_count": 20,
     "metadata": {},
     "output_type": "execute_result"
    }
   ],
   "source": [
    "csc_filename = \"elife-45396-fig1-data2.csv\"\n",
    "csc_df = pd.read_csv(csc_filename)\n",
    "csc_df.head()"
   ]
  },
  {
   "cell_type": "markdown",
   "id": "d5501fde-3af9-4634-9c5e-80d7c0f37599",
   "metadata": {},
   "source": [
    "**Output:**"
   ]
  },
  {
   "cell_type": "code",
   "execution_count": 21,
   "id": "68e47fdb-3e5b-4c9b-929f-21e548ac1fba",
   "metadata": {},
   "outputs": [
    {
     "data": {
      "text/html": [
       "<div>\n",
       "<style scoped>\n",
       "    .dataframe tbody tr th:only-of-type {\n",
       "        vertical-align: middle;\n",
       "    }\n",
       "\n",
       "    .dataframe tbody tr th {\n",
       "        vertical-align: top;\n",
       "    }\n",
       "\n",
       "    .dataframe thead th {\n",
       "        text-align: right;\n",
       "    }\n",
       "</style>\n",
       "<table border=\"1\" class=\"dataframe\">\n",
       "  <thead>\n",
       "    <tr style=\"text-align: right;\">\n",
       "      <th></th>\n",
       "      <th>codon</th>\n",
       "      <th>csc_293T_endo</th>\n",
       "    </tr>\n",
       "  </thead>\n",
       "  <tbody>\n",
       "    <tr>\n",
       "      <th>0</th>\n",
       "      <td>AAA</td>\n",
       "      <td>-0.154753</td>\n",
       "    </tr>\n",
       "    <tr>\n",
       "      <th>1</th>\n",
       "      <td>AAC</td>\n",
       "      <td>0.037337</td>\n",
       "    </tr>\n",
       "    <tr>\n",
       "      <th>2</th>\n",
       "      <td>AAG</td>\n",
       "      <td>0.002683</td>\n",
       "    </tr>\n",
       "    <tr>\n",
       "      <th>3</th>\n",
       "      <td>AAT</td>\n",
       "      <td>-0.089872</td>\n",
       "    </tr>\n",
       "    <tr>\n",
       "      <th>4</th>\n",
       "      <td>ACA</td>\n",
       "      <td>-0.067140</td>\n",
       "    </tr>\n",
       "  </tbody>\n",
       "</table>\n",
       "</div>"
      ],
      "text/plain": [
       "  codon  csc_293T_endo\n",
       "0   AAA      -0.154753\n",
       "1   AAC       0.037337\n",
       "2   AAG       0.002683\n",
       "3   AAT      -0.089872\n",
       "4   ACA      -0.067140"
      ]
     },
     "execution_count": 21,
     "metadata": {},
     "output_type": "execute_result"
    }
   ],
   "source": [
    "csc_write_df = csc_df[[\"codon\",\"293T_endo\"]]\n",
    "csc_write_df.columns = [\"codon\", \"csc_293T_endo\"]\n",
    "csc_write_df.head()"
   ]
  },
  {
   "cell_type": "code",
   "execution_count": 22,
   "id": "6a0b448a-3ed2-44b6-80a3-58e4fc4e734e",
   "metadata": {},
   "outputs": [],
   "source": [
    "csc_write_filename = \"../../data/2_conditional_mutual_information/csc_wu_2019.tsv\"\n",
    "csc_write_df.to_csv(csc_write_filename,\n",
    "                    sep=\"\\t\",\n",
    "                    index=False)"
   ]
  },
  {
   "cell_type": "markdown",
   "id": "34c1390b-1c55-47ce-b3dd-33901bfa5e72",
   "metadata": {},
   "source": [
    "## tRNA adaptation index\n",
    "\n",
    "Source: https://doi.org/10.1016/j.cell.2010.03.031\n",
    "\n",
    "Table S1"
   ]
  },
  {
   "cell_type": "markdown",
   "id": "27e9a3f9-17f2-4bb6-8ab1-7683b25b9ab4",
   "metadata": {},
   "source": [
    "**Input:**"
   ]
  },
  {
   "cell_type": "code",
   "execution_count": 3,
   "id": "05afe4c9-a5e9-4223-bbe7-0467d66ff079",
   "metadata": {},
   "outputs": [
    {
     "data": {
      "text/html": [
       "<div>\n",
       "<style scoped>\n",
       "    .dataframe tbody tr th:only-of-type {\n",
       "        vertical-align: middle;\n",
       "    }\n",
       "\n",
       "    .dataframe tbody tr th {\n",
       "        vertical-align: top;\n",
       "    }\n",
       "\n",
       "    .dataframe thead th {\n",
       "        text-align: right;\n",
       "    }\n",
       "</style>\n",
       "<table border=\"1\" class=\"dataframe\">\n",
       "  <thead>\n",
       "    <tr style=\"text-align: right;\">\n",
       "      <th></th>\n",
       "      <th>Codon</th>\n",
       "      <th>anti-codon</th>\n",
       "      <th>S. Cerevisiae</th>\n",
       "      <th>Human</th>\n",
       "      <th>E. coli K12</th>\n",
       "      <th>C. elegance</th>\n",
       "      <th>D. melanogaster</th>\n",
       "      <th>Aeropyrum pernix</th>\n",
       "    </tr>\n",
       "  </thead>\n",
       "  <tbody>\n",
       "    <tr>\n",
       "      <th>0</th>\n",
       "      <td>TTT</td>\n",
       "      <td>AAA</td>\n",
       "      <td>0.270320</td>\n",
       "      <td>0.161002</td>\n",
       "      <td>0.10975</td>\n",
       "      <td>0.170722</td>\n",
       "      <td>0.167878</td>\n",
       "      <td>0.132229</td>\n",
       "    </tr>\n",
       "    <tr>\n",
       "      <th>1</th>\n",
       "      <td>TTC</td>\n",
       "      <td>GAA</td>\n",
       "      <td>0.615764</td>\n",
       "      <td>0.366748</td>\n",
       "      <td>0.25000</td>\n",
       "      <td>0.388889</td>\n",
       "      <td>0.382409</td>\n",
       "      <td>0.301205</td>\n",
       "    </tr>\n",
       "    <tr>\n",
       "      <th>2</th>\n",
       "      <td>TTA</td>\n",
       "      <td>TAA</td>\n",
       "      <td>0.431034</td>\n",
       "      <td>0.213936</td>\n",
       "      <td>0.12500</td>\n",
       "      <td>0.111111</td>\n",
       "      <td>0.191205</td>\n",
       "      <td>0.301205</td>\n",
       "    </tr>\n",
       "    <tr>\n",
       "      <th>3</th>\n",
       "      <td>TTG</td>\n",
       "      <td>CAA</td>\n",
       "      <td>0.753695</td>\n",
       "      <td>0.282396</td>\n",
       "      <td>0.16500</td>\n",
       "      <td>0.230000</td>\n",
       "      <td>0.252390</td>\n",
       "      <td>0.397590</td>\n",
       "    </tr>\n",
       "    <tr>\n",
       "      <th>4</th>\n",
       "      <td>TCT</td>\n",
       "      <td>AGA</td>\n",
       "      <td>0.677340</td>\n",
       "      <td>0.336186</td>\n",
       "      <td>0.10975</td>\n",
       "      <td>0.416667</td>\n",
       "      <td>0.382409</td>\n",
       "      <td>0.132229</td>\n",
       "    </tr>\n",
       "  </tbody>\n",
       "</table>\n",
       "</div>"
      ],
      "text/plain": [
       "  Codon anti-codon  S. Cerevisiae     Human   E. coli K12  C. elegance  \\\n",
       "0   TTT        AAA       0.270320  0.161002       0.10975     0.170722   \n",
       "1   TTC        GAA       0.615764  0.366748       0.25000     0.388889   \n",
       "2   TTA        TAA       0.431034  0.213936       0.12500     0.111111   \n",
       "3   TTG        CAA       0.753695  0.282396       0.16500     0.230000   \n",
       "4   TCT        AGA       0.677340  0.336186       0.10975     0.416667   \n",
       "\n",
       "   D. melanogaster  Aeropyrum pernix   \n",
       "0         0.167878           0.132229  \n",
       "1         0.382409           0.301205  \n",
       "2         0.191205           0.301205  \n",
       "3         0.252390           0.397590  \n",
       "4         0.382409           0.132229  "
      ]
     },
     "execution_count": 3,
     "metadata": {},
     "output_type": "execute_result"
    }
   ],
   "source": [
    "tai_filename = \"1-s2.0-S0092867410003193-mmc2_tAI.csv\"\n",
    "tai_df = pd.read_csv(tai_filename,\n",
    "                     encoding='utf-8-sig')\n",
    "tai_df.head()"
   ]
  },
  {
   "cell_type": "markdown",
   "id": "b88a636f-732a-4ba7-a6d6-3e1f9569e11a",
   "metadata": {},
   "source": [
    "**Output:**"
   ]
  },
  {
   "cell_type": "code",
   "execution_count": 5,
   "id": "6f9bf997-9ca5-4772-91a5-283806414759",
   "metadata": {},
   "outputs": [
    {
     "data": {
      "text/html": [
       "<div>\n",
       "<style scoped>\n",
       "    .dataframe tbody tr th:only-of-type {\n",
       "        vertical-align: middle;\n",
       "    }\n",
       "\n",
       "    .dataframe tbody tr th {\n",
       "        vertical-align: top;\n",
       "    }\n",
       "\n",
       "    .dataframe thead th {\n",
       "        text-align: right;\n",
       "    }\n",
       "</style>\n",
       "<table border=\"1\" class=\"dataframe\">\n",
       "  <thead>\n",
       "    <tr style=\"text-align: right;\">\n",
       "      <th></th>\n",
       "      <th>codon</th>\n",
       "      <th>human_tai</th>\n",
       "    </tr>\n",
       "  </thead>\n",
       "  <tbody>\n",
       "    <tr>\n",
       "      <th>0</th>\n",
       "      <td>TTT</td>\n",
       "      <td>0.161002</td>\n",
       "    </tr>\n",
       "    <tr>\n",
       "      <th>1</th>\n",
       "      <td>TTC</td>\n",
       "      <td>0.366748</td>\n",
       "    </tr>\n",
       "    <tr>\n",
       "      <th>2</th>\n",
       "      <td>TTA</td>\n",
       "      <td>0.213936</td>\n",
       "    </tr>\n",
       "    <tr>\n",
       "      <th>3</th>\n",
       "      <td>TTG</td>\n",
       "      <td>0.282396</td>\n",
       "    </tr>\n",
       "    <tr>\n",
       "      <th>4</th>\n",
       "      <td>TCT</td>\n",
       "      <td>0.336186</td>\n",
       "    </tr>\n",
       "  </tbody>\n",
       "</table>\n",
       "</div>"
      ],
      "text/plain": [
       "  codon  human_tai\n",
       "0   TTT   0.161002\n",
       "1   TTC   0.366748\n",
       "2   TTA   0.213936\n",
       "3   TTG   0.282396\n",
       "4   TCT   0.336186"
      ]
     },
     "execution_count": 5,
     "metadata": {},
     "output_type": "execute_result"
    }
   ],
   "source": [
    "tai_write_df = tai_df[[\"Codon\", \"Human\"]]\n",
    "tai_write_df.columns = [\"codon\", \"human_tai\"]\n",
    "tai_write_df.head()"
   ]
  },
  {
   "cell_type": "code",
   "execution_count": 8,
   "id": "3f149d71-e14d-4982-b6ca-ea9f908233ec",
   "metadata": {},
   "outputs": [],
   "source": [
    "tai_write_filename = \"../../data/2_conditional_mutual_information/tai_tuller_2010.tsv\"\n",
    "tai_write_df.to_csv(tai_write_filename,\n",
    "                    sep=\"\\t\",\n",
    "                    index=False)"
   ]
  }
 ],
 "metadata": {
  "kernelspec": {
   "display_name": "Python [conda env:codon_context]",
   "language": "python",
   "name": "conda-env-codon_context-py"
  },
  "language_info": {
   "codemirror_mode": {
    "name": "ipython",
    "version": 3
   },
   "file_extension": ".py",
   "mimetype": "text/x-python",
   "name": "python",
   "nbconvert_exporter": "python",
   "pygments_lexer": "ipython3",
   "version": "3.8.13"
  }
 },
 "nbformat": 4,
 "nbformat_minor": 5
}
